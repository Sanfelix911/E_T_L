{
 "cells": [
  {
   "cell_type": "markdown",
   "id": "26fef045",
   "metadata": {},
   "source": [
    "1. Скачайте датасет fifа_s2.сsv. Проанализируйте его и определите, какие данные являются неполными. Удалите ненужные колонки и недостающие значения.\n",
    "\n",
    "2. Найдите в датафрейме полные дубликаты и удалите их. Значения могут быть одинаковыми, но написаны по-разному. Например, может отличаться размер регистра (заглавные и строчные буквы). Особое внимание уделить колонке с названиями команд.\n",
    "\n",
    "3. Напишите функцию, которая добавит колонку с разбиением возраста по группам: до 20, от 20 до 30, от 30 до 36 и старше 36. Посчитайте количество футболистов в каждой категории."
   ]
  },
  {
   "cell_type": "code",
   "execution_count": 13,
   "id": "3f8b2442",
   "metadata": {},
   "outputs": [],
   "source": [
    "import init_spark_env # Ипортирую файл настроек связки спарка и jpyter"
   ]
  },
  {
   "cell_type": "code",
   "execution_count": 14,
   "id": "581e3050",
   "metadata": {},
   "outputs": [],
   "source": [
    "from pyspark.sql import SparkSession\n",
    "from pyspark.sql.functions import col, count, when, udf, lower\n",
    "from pyspark.sql.types import StringType"
   ]
  },
  {
   "cell_type": "code",
   "execution_count": 15,
   "id": "50ae6262",
   "metadata": {},
   "outputs": [],
   "source": [
    "# Запускаю спарк-сессию\n",
    "spark = SparkSession.builder.appName(\"hw2 fifa\").getOrCreate()"
   ]
  },
  {
   "cell_type": "code",
   "execution_count": 16,
   "id": "6c377b7d",
   "metadata": {},
   "outputs": [
    {
     "data": {
      "text/html": [
       "\n",
       "            <div>\n",
       "                <p><b>SparkSession - in-memory</b></p>\n",
       "                \n",
       "        <div>\n",
       "            <p><b>SparkContext</b></p>\n",
       "\n",
       "            <p><a href=\"http://DESKTOP-06HQUIB:4040\">Spark UI</a></p>\n",
       "\n",
       "            <dl>\n",
       "              <dt>Version</dt>\n",
       "                <dd><code>v3.5.3</code></dd>\n",
       "              <dt>Master</dt>\n",
       "                <dd><code>local[*]</code></dd>\n",
       "              <dt>AppName</dt>\n",
       "                <dd><code>hw2 fifa</code></dd>\n",
       "            </dl>\n",
       "        </div>\n",
       "        \n",
       "            </div>\n",
       "        "
      ],
      "text/plain": [
       "<pyspark.sql.session.SparkSession at 0x29027494390>"
      ]
     },
     "execution_count": 16,
     "metadata": {},
     "output_type": "execute_result"
    }
   ],
   "source": [
    "# Проеверяю статус спарка\n",
    "spark"
   ]
  },
  {
   "cell_type": "code",
   "execution_count": 17,
   "id": "443f78cd",
   "metadata": {},
   "outputs": [],
   "source": [
    "# Загружаю датасет\n",
    "df = spark.read.csv(\"fifa_s2.csv\", header=True, inferSchema=True)"
   ]
  },
  {
   "cell_type": "code",
   "execution_count": 22,
   "id": "e8bfac7d",
   "metadata": {},
   "outputs": [
    {
     "data": {
      "text/plain": [
       "DataFrame[ID: int, Name: string, Age: int, Nationality: string, Overall: int, Potential: int, Club: string, Value: int, Wage: int, Preferred Foot: string, International Reputation: int, Skill Moves: int, Position: string, Joined: int, Contract Valid Until: string, Height: double, Weight: double, Release Clause: double]"
      ]
     },
     "execution_count": 22,
     "metadata": {},
     "output_type": "execute_result"
    }
   ],
   "source": [
    "df"
   ]
  },
  {
   "cell_type": "code",
   "execution_count": 21,
   "id": "faf50f90",
   "metadata": {},
   "outputs": [
    {
     "data": {
      "text/plain": [
       "[Row(ID=1179, Name='G. Buffon', Age=40, Nationality='Italy', Overall=88, Potential=88, Club='Paris Saint-Germain', Value=4000, Wage=77, Preferred Foot='Right', International Reputation=4, Skill Moves=1, Position='GK', Joined=2018, Contract Valid Until='01/01/2019', Height=6.333333333, Weight=203.0, Release Clause=7400.0),\n",
       " Row(ID=5479, Name='Casillas', Age=37, Nationality='Spain', Overall=82, Potential=82, Club='FC Porto', Value=1500, Wage=10, Preferred Foot='Left', International Reputation=4, Skill Moves=1, Position=None, Joined=2015, Contract Valid Until='01/01/2019', Height=6.083333333, Weight=185.0, Release Clause=3000.0),\n",
       " Row(ID=8205, Name='Braga', Age=35, Nationality='Portugal', Overall=70, Potential=70, Club='CD Aves', Value=750, Wage=5, Preferred Foot='Right', International Reputation=1, Skill Moves=3, Position='LCM', Joined=2017, Contract Valid Until='01/01/2019', Height=5.916666667, Weight=165.0, Release Clause=1600.0),\n",
       " Row(ID=9014, Name='A. Robben', Age=34, Nationality='Netherlands', Overall=84, Potential=84, Club='FC Bayern München', Value=15500, Wage=110, Preferred Foot='Left', International Reputation=4, Skill Moves=4, Position='RM', Joined=2009, Contract Valid Until='01/01/2019', Height=5.916666667, Weight=176.0, Release Clause=25600.0),\n",
       " Row(ID=19521, Name='J. Ibehre', Age=35, Nationality='England', Overall=61, Potential=61, Club='Cambridge United', Value=120, Wage=2, Preferred Foot='Right', International Reputation=1, Skill Moves=2, Position='ST', Joined=2017, Contract Valid Until='01/01/2019', Height=6.333333333, Weight=203.0, Release Clause=210.0)]"
      ]
     },
     "execution_count": 21,
     "metadata": {},
     "output_type": "execute_result"
    }
   ],
   "source": [
    "df.head(5)"
   ]
  },
  {
   "cell_type": "code",
   "execution_count": 23,
   "id": "89aefc10",
   "metadata": {},
   "outputs": [
    {
     "name": "stdout",
     "output_type": "stream",
     "text": [
      "root\n",
      " |-- ID: integer (nullable = true)\n",
      " |-- Name: string (nullable = true)\n",
      " |-- Age: integer (nullable = true)\n",
      " |-- Nationality: string (nullable = true)\n",
      " |-- Overall: integer (nullable = true)\n",
      " |-- Potential: integer (nullable = true)\n",
      " |-- Club: string (nullable = true)\n",
      " |-- Value: integer (nullable = true)\n",
      " |-- Wage: integer (nullable = true)\n",
      " |-- Preferred Foot: string (nullable = true)\n",
      " |-- International Reputation: integer (nullable = true)\n",
      " |-- Skill Moves: integer (nullable = true)\n",
      " |-- Position: string (nullable = true)\n",
      " |-- Joined: integer (nullable = true)\n",
      " |-- Contract Valid Until: string (nullable = true)\n",
      " |-- Height: double (nullable = true)\n",
      " |-- Weight: double (nullable = true)\n",
      " |-- Release Clause: double (nullable = true)\n",
      "\n"
     ]
    }
   ],
   "source": [
    "# Схема датафрейма\n",
    "df.printSchema()"
   ]
  },
  {
   "cell_type": "code",
   "execution_count": 24,
   "id": "d0741ed0",
   "metadata": {},
   "outputs": [
    {
     "name": "stdout",
     "output_type": "stream",
     "text": [
      "+-----+-----------------+---+-------------------+-------+---------+-------------------+-----+----+--------------+------------------------+-----------+--------+------+--------------------+-----------+------+--------------+\n",
      "|   ID|             Name|Age|        Nationality|Overall|Potential|               Club|Value|Wage|Preferred Foot|International Reputation|Skill Moves|Position|Joined|Contract Valid Until|     Height|Weight|Release Clause|\n",
      "+-----+-----------------+---+-------------------+-------+---------+-------------------+-----+----+--------------+------------------------+-----------+--------+------+--------------------+-----------+------+--------------+\n",
      "| 1179|        G. Buffon| 40|              Italy|     88|       88|Paris Saint-Germain| 4000|  77|         Right|                       4|          1|      GK|  2018|          01/01/2019|6.333333333| 203.0|        7400.0|\n",
      "| 5479|         Casillas| 37|              Spain|     82|       82|           FC Porto| 1500|  10|          Left|                       4|          1|    NULL|  2015|          01/01/2019|6.083333333| 185.0|        3000.0|\n",
      "| 8205|            Braga| 35|           Portugal|     70|       70|            CD Aves|  750|   5|         Right|                       1|          3|     LCM|  2017|          01/01/2019|5.916666667| 165.0|        1600.0|\n",
      "| 9014|        A. Robben| 34|        Netherlands|     84|       84|  FC Bayern München|15500| 110|          Left|                       4|          4|      RM|  2009|          01/01/2019|5.916666667| 176.0|       25600.0|\n",
      "|19521|        J. Ibehre| 35|            England|     61|       61|   Cambridge United|  120|   2|         Right|                       1|          2|      ST|  2017|          01/01/2019|6.333333333| 203.0|         210.0|\n",
      "|20209|    Ricardo Costa| 37|           Portugal|     74|       74|         CD Tondela|  750|   4|         Right|                       2|          2|     LCB|  2017|          01/01/2019|        6.0| 181.0|        1600.0|\n",
      "|20801|Cristiano Ronaldo| 33|           Portugal|     94|       94|           Juventus|77000| 405|         Right|                       5|          5|      ST|  2018|          01/01/2022|6.166666667| 183.0|      127100.0|\n",
      "|24630|       Pepe Reina| 35|              Spain|     83|       83|              Milan| 6000|  56|         Right|                       3|          1|      GK|  2018|                NULL|6.166666667| 203.0|       10200.0|\n",
      "|27532|      D. de Vries| 37|        Netherlands|     66|       66|             Celtic|   40|   7|         Right|                       1|          1|      GK|  2016|          01/01/2019|       6.25| 212.0|          72.0|\n",
      "|45083|    S. von Bergen| 35|        Switzerland|     73|       73|     BSC Young Boys|  950|  12|         Right|                       2|          2|     LCB|  2013|          01/01/2022|        6.0| 174.0|        1400.0|\n",
      "|46175|     M. Rosenberg| 35|             Sweden|     73|       73|           Malmö FF| 1800|   6|         Right|                       1|          3|      RS|  2014|          01/01/2020|        6.0| 179.0|        2400.0|\n",
      "|47201|         S. Proto| 35|            Belgium|     76|       76|              Lazio| 1800|  20|         Right|                       2|          1|      GK|  2018|          01/01/2021|        6.0| 163.0|        3100.0|\n",
      "|48940|          P. Čech| 36|     Czech Republic|     82|       82|            Arsenal| 3000|  60|          Left|                       4|          1|    NULL|  2015|          01/01/2019|6.416666667| 198.0|        5700.0|\n",
      "|52498|       M. Lehmann| 35|            Germany|     72|       72|         1. FC Köln|  725|  10|         Right|                       2|          2|     CDM|  2012|          01/01/2019|5.833333333| 165.0|        1100.0|\n",
      "|52679|        J. Murphy| 36|Republic of Ireland|     62|       62|               Bury|   40|   1|          Left|                       1|          1|      GK|  2017|          01/01/2019|6.166666667| 194.0|          70.0|\n",
      "|53110|        C. Gordon| 35|           Scotland|     74|       74|             Celtic| 1300|  20|          Left|                       2|          1|      GK|  2014|          01/01/2020|6.333333333| 183.0|        2400.0|\n",
      "|53302|      D. De Rossi| 34|              Italy|     83|       83|               Roma| 8000|  80|         Right|                       3|          2|     RDM|  2002|                NULL|        6.0| 183.0|       13600.0|\n",
      "|53363|        A. Collin| 33|            England|     62|       62|    Carlisle United|  150|   2|         Right|                       1|          1|      GK|  2018|          01/01/2019|       6.25| 172.0|         263.0|\n",
      "|53739|         L. Grant| 35|            England|     74|       74|  Manchester United| 1300|  39|         Right|                       1|          1|      GK|  2018|          01/01/2020|6.333333333| 183.0|        2500.0|\n",
      "|53748|    K. Pilkington| 44|            England|     48|       48|   Cambridge United| NULL|   1|         Right|                       1|          1|      GK|  2018|          01/01/2023|6.166666667| 190.0|   4585.060806|\n",
      "+-----+-----------------+---+-------------------+-------+---------+-------------------+-----+----+--------------+------------------------+-----------+--------+------+--------------------+-----------+------+--------------+\n",
      "only showing top 20 rows\n",
      "\n"
     ]
    }
   ],
   "source": [
    "# Табличный вид\n",
    "df.show()"
   ]
  },
  {
   "cell_type": "code",
   "execution_count": 25,
   "id": "95d309c3",
   "metadata": {},
   "outputs": [
    {
     "data": {
      "text/plain": [
       "2399"
      ]
     },
     "execution_count": 25,
     "metadata": {},
     "output_type": "execute_result"
    }
   ],
   "source": [
    "# Количество строк\n",
    "df.count()"
   ]
  },
  {
   "cell_type": "code",
   "execution_count": 26,
   "id": "5fa2641e",
   "metadata": {},
   "outputs": [],
   "source": [
    "# Количество пропущенных значений\n",
    "df_missing_values = df.select([count(when(col(c).isNull(), c)).alias(c) for c in df.columns])"
   ]
  },
  {
   "cell_type": "code",
   "execution_count": 27,
   "id": "0b8289e1",
   "metadata": {},
   "outputs": [
    {
     "name": "stdout",
     "output_type": "stream",
     "text": [
      "+---+----+---+-----------+-------+---------+----+-----+----+--------------+------------------------+-----------+--------+------+--------------------+------+------+--------------+\n",
      "| ID|Name|Age|Nationality|Overall|Potential|Club|Value|Wage|Preferred Foot|International Reputation|Skill Moves|Position|Joined|Contract Valid Until|Height|Weight|Release Clause|\n",
      "+---+----+---+-----------+-------+---------+----+-----+----+--------------+------------------------+-----------+--------+------+--------------------+------+------+--------------+\n",
      "|  0|   0|  0|          7|      0|        0| 241|  257|   0|             0|                      10|          6|      21|     0|                 273|     0|     0|             3|\n",
      "+---+----+---+-----------+-------+---------+----+-----+----+--------------+------------------------+-----------+--------+------+--------------------+------+------+--------------+\n",
      "\n"
     ]
    }
   ],
   "source": [
    "# Пропуски по колонкам\n",
    "df_missing_values.show()"
   ]
  },
  {
   "cell_type": "markdown",
   "id": "75d3c47d",
   "metadata": {},
   "source": [
    "из 2399 максимально с пропусками :\n",
    "Club - 241, Value -257, Contract Valid Until - 273   - вердикт \"удаляю\"\n",
    "Остальные маленькие пропуски по колонкам  -удалю строки"
   ]
  },
  {
   "cell_type": "code",
   "execution_count": 28,
   "id": "b4481729",
   "metadata": {},
   "outputs": [],
   "source": [
    "# Удаляю колоноки \n",
    "columns_to_drop = ['Club', 'Contract Valid Until', 'Value']\n",
    "df_cleaned = df.drop(*columns_to_drop)"
   ]
  },
  {
   "cell_type": "code",
   "execution_count": 29,
   "id": "948d75b2",
   "metadata": {},
   "outputs": [],
   "source": [
    "# Удаляю строки с проусками\n",
    "df_cleaned = df_cleaned.dropna()"
   ]
  },
  {
   "cell_type": "code",
   "execution_count": 30,
   "id": "63a38729",
   "metadata": {},
   "outputs": [],
   "source": [
    "# Все строковые колонки привожу к нижнему регистру для удаления дубликатов\n",
    "string_columns = [field.name for field in df_cleaned.schema.fields if isinstance(field.dataType, StringType)]\n",
    "for col_name in string_columns:\n",
    "    df_cleaned = df_cleaned.withColumn(col_name, lower(col(col_name)))"
   ]
  },
  {
   "cell_type": "code",
   "execution_count": 34,
   "id": "c5200859",
   "metadata": {},
   "outputs": [],
   "source": [
    "# Удаляю дубликаты\n",
    "df_no_duplicates = df_cleaned.dropDuplicates()"
   ]
  },
  {
   "cell_type": "code",
   "execution_count": 35,
   "id": "25fa9696",
   "metadata": {},
   "outputs": [
    {
     "name": "stdout",
     "output_type": "stream",
     "text": [
      "+--------+-----+\n",
      "|AgeGroup|count|\n",
      "+--------+-----+\n",
      "|31 to 36|  327|\n",
      "|Under 20|  269|\n",
      "| Over 36|   14|\n",
      "|20 to 30| 1744|\n",
      "+--------+-----+\n",
      "\n"
     ]
    }
   ],
   "source": [
    "# Функция для определения возрастной группы\n",
    "def age_group(age):\n",
    "    if age < 20:\n",
    "        return 'Under 20'\n",
    "    elif 20 <= age <= 30:\n",
    "        return '20 to 30'\n",
    "    elif 31 <= age <= 36:\n",
    "        return '31 to 36'\n",
    "    else:\n",
    "        return 'Over 36'\n",
    "\n",
    "# Регистрация UDF\n",
    "age_group_udf = udf(age_group, StringType())\n",
    "\n",
    "# Добавление новой колонки 'AgeGroup'\n",
    "df_with_age_groups = df_no_duplicates.withColumn('AgeGroup', age_group_udf(col('Age')))\n",
    "\n",
    "# Подсчет количества футболистов в каждой возрастной группе\n",
    "age_group_counts = df_with_age_groups.groupBy('AgeGroup').count()\n",
    "\n",
    "# Вывод результатов\n",
    "age_group_counts.show()"
   ]
  },
  {
   "cell_type": "code",
   "execution_count": 36,
   "id": "40419523",
   "metadata": {},
   "outputs": [],
   "source": [
    "spark.stop()"
   ]
  }
 ],
 "metadata": {
  "kernelspec": {
   "display_name": "Python 3 (ipykernel)",
   "language": "python",
   "name": "python3"
  },
  "language_info": {
   "codemirror_mode": {
    "name": "ipython",
    "version": 3
   },
   "file_extension": ".py",
   "mimetype": "text/x-python",
   "name": "python",
   "nbconvert_exporter": "python",
   "pygments_lexer": "ipython3",
   "version": "3.11.5"
  }
 },
 "nbformat": 4,
 "nbformat_minor": 5
}
