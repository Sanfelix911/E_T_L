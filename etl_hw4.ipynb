{
 "cells": [
  {
   "cell_type": "markdown",
   "id": "3a4d79f6",
   "metadata": {},
   "source": [
    "1.Создайте таблицу movies с полями movies_type, director, year_of_issue, length_in_minutes, rate.\n",
    "\n",
    "2.Сделайте таблицы для горизонтального партицирования по году выпуска (до 1990, 1990 -2000, 2000- 2010, 2010-2020, после 2020).\n",
    "\n",
    "3.Сделайте таблицы для горизонтального партицирования по длине фильма (до 40 минута, от 40 до 90 минут, от 90 до 130 минут, более 130 минут).\n",
    "\n",
    "4.Сделайте таблицы для горизонтального партицирования по рейтингу фильма (ниже 5, от 5 до 8, от 8до 10).\n",
    "\n",
    "5.Создайте правила добавления данных для каждой таблицы.\n",
    "\n",
    "6.Добавьте фильмы так, чтобы в каждой таблице было не менее 3 фильмов.\n",
    "\n",
    "7.Добавьте пару фильмов с рейтингом выше 10."
   ]
  },
  {
   "cell_type": "code",
   "execution_count": 1,
   "id": "8cca67be",
   "metadata": {},
   "outputs": [],
   "source": [
    "import init_spark_env # загружаю файл настроек связки бпитера и спарка"
   ]
  },
  {
   "cell_type": "code",
   "execution_count": 2,
   "id": "8aed39b1",
   "metadata": {},
   "outputs": [],
   "source": [
    "from pyspark.sql import SparkSession\n",
    "from pyspark.sql import Row"
   ]
  },
  {
   "cell_type": "code",
   "execution_count": 3,
   "id": "0be4be86",
   "metadata": {},
   "outputs": [],
   "source": [
    "spark = SparkSession.builder .appName(\"etl_hw4\").getOrCreate()"
   ]
  },
  {
   "cell_type": "code",
   "execution_count": 4,
   "id": "5bb69516",
   "metadata": {},
   "outputs": [
    {
     "data": {
      "text/html": [
       "\n",
       "            <div>\n",
       "                <p><b>SparkSession - in-memory</b></p>\n",
       "                \n",
       "        <div>\n",
       "            <p><b>SparkContext</b></p>\n",
       "\n",
       "            <p><a href=\"http://DESKTOP-06HQUIB:4040\">Spark UI</a></p>\n",
       "\n",
       "            <dl>\n",
       "              <dt>Version</dt>\n",
       "                <dd><code>v3.5.3</code></dd>\n",
       "              <dt>Master</dt>\n",
       "                <dd><code>local[*]</code></dd>\n",
       "              <dt>AppName</dt>\n",
       "                <dd><code>etl_hw4</code></dd>\n",
       "            </dl>\n",
       "        </div>\n",
       "        \n",
       "            </div>\n",
       "        "
      ],
      "text/plain": [
       "<pyspark.sql.session.SparkSession at 0x1adaae8f990>"
      ]
     },
     "execution_count": 4,
     "metadata": {},
     "output_type": "execute_result"
    }
   ],
   "source": [
    "spark # проверка состояния спарк-сессии"
   ]
  },
  {
   "cell_type": "code",
   "execution_count": 7,
   "id": "183293e5",
   "metadata": {},
   "outputs": [],
   "source": [
    "# 1.Схема для таблицы movies\n",
    "from pyspark.sql.types import StructType, StructField, StringType, IntegerType, FloatType\n",
    "\n",
    "schema = StructType([\n",
    "    StructField(\"movies_type\", StringType(), True),\n",
    "    StructField(\"director\", StringType(), True),\n",
    "    StructField(\"year_of_issue\", IntegerType(), True),\n",
    "    StructField(\"length_in_minutes\", IntegerType(), True),\n",
    "    StructField(\"rate\", FloatType(), True)\n",
    "])"
   ]
  },
  {
   "cell_type": "code",
   "execution_count": 11,
   "id": "7c33621f",
   "metadata": {},
   "outputs": [],
   "source": [
    "# 2. Партицирование по году выпуска\n",
    "movies_rdd = spark.sparkContext.parallelize([\n",
    "    Row(movies_type='Action', director='Director A', year_of_issue=1985, length_in_minutes=120, rate=7.2),\n",
    "    Row(movies_type='Drama', director='Director B', year_of_issue=1995, length_in_minutes=150, rate=8.5),\n",
    "    Row(movies_type='Comedy', director='Director C', year_of_issue=2005, length_in_minutes=90, rate=6.5),\n",
    "])\n",
    "movies_df = spark.createDataFrame(movies_rdd, schema)"
   ]
  },
  {
   "cell_type": "code",
   "execution_count": 14,
   "id": "0bfdf041",
   "metadata": {},
   "outputs": [],
   "source": [
    "# Горизонтальное по году выпуска\n",
    "movies_pre_1990 = movies_df.filter(\"year_of_issue < 1990\")\n",
    "movies_1990_2000 = movies_df.filter(\"year_of_issue >= 1990 AND year_of_issue < 2000\")\n",
    "movies_2000_2010 = movies_df.filter(\"year_of_issue >= 2000 AND year_of_issue < 2010\")\n",
    "movies_2010_2020 = movies_df.filter(\"year_of_issue >= 2010 AND year_of_issue < 2020\")\n",
    "movies_post_2020 = movies_df.filter(\"year_of_issue >= 2020\")"
   ]
  },
  {
   "cell_type": "code",
   "execution_count": 17,
   "id": "b9ffde9a",
   "metadata": {},
   "outputs": [],
   "source": [
    "# 3. Горизонтальное по длине фильма\n",
    "movies_short = movies_df.filter(\"length_in_minutes < 40\")\n",
    "movies_medium = movies_df.filter(\"length_in_minutes >= 40 AND length_in_minutes < 90\")\n",
    "movies_long = movies_df.filter(\"length_in_minutes >= 90 AND length_in_minutes < 130\")\n",
    "movies_very_long = movies_df.filter(\"length_in_minutes >= 130\")"
   ]
  },
  {
   "cell_type": "code",
   "execution_count": 22,
   "id": "d7632316",
   "metadata": {},
   "outputs": [],
   "source": [
    "# 4. Горизонтальное по рейтингу фильма\n",
    "movies_low_rate = movies_df.filter(\"rate < 5\")\n",
    "movies_medium_rate = movies_df.filter(\"rate >= 5 AND rate < 8\")\n",
    "movies_high_rate = movies_df.filter(\"rate >= 8 AND rate <= 10\")"
   ]
  },
  {
   "cell_type": "code",
   "execution_count": 26,
   "id": "2422ba36",
   "metadata": {},
   "outputs": [],
   "source": [
    "# 7. Добавление фильмов в DataFrame (для примера добавим три фильма с рейтингом выше 10)\n",
    "extra_movies_rdd = spark.sparkContext.parallelize([\n",
    "    Row(movies_type='Sci-Fi', director='Director X', year_of_issue=2021, length_in_minutes=140, rate=10.5),\n",
    "    Row(movies_type='Fantasy', director='Director Y', year_of_issue=2022, length_in_minutes=200, rate=10.8),\n",
    "    Row(movies_type='Horror', director='Director Z', year_of_issue=2023, length_in_minutes=80, rate=11.0),\n",
    "])\n",
    "extra_movies_df = spark.createDataFrame(extra_movies_rdd, schema)\n",
    "movies_df = movies_df.union(extra_movies_df)"
   ]
  },
  {
   "cell_type": "code",
   "execution_count": 28,
   "id": "eb18fea2",
   "metadata": {},
   "outputs": [
    {
     "name": "stdout",
     "output_type": "stream",
     "text": [
      "+-----------+----------+-------------+-----------------+----+\n",
      "|movies_type|  director|year_of_issue|length_in_minutes|rate|\n",
      "+-----------+----------+-------------+-----------------+----+\n",
      "|     Action|Director A|         1985|              120| 7.2|\n",
      "+-----------+----------+-------------+-----------------+----+\n",
      "\n",
      "+-----------+----------+-------------+-----------------+----+\n",
      "|movies_type|  director|year_of_issue|length_in_minutes|rate|\n",
      "+-----------+----------+-------------+-----------------+----+\n",
      "|      Drama|Director B|         1995|              150| 8.5|\n",
      "+-----------+----------+-------------+-----------------+----+\n",
      "\n",
      "+-----------+----------+-------------+-----------------+----+\n",
      "|movies_type|  director|year_of_issue|length_in_minutes|rate|\n",
      "+-----------+----------+-------------+-----------------+----+\n",
      "|     Comedy|Director C|         2005|               90| 6.5|\n",
      "+-----------+----------+-------------+-----------------+----+\n",
      "\n",
      "+-----------+--------+-------------+-----------------+----+\n",
      "|movies_type|director|year_of_issue|length_in_minutes|rate|\n",
      "+-----------+--------+-------------+-----------------+----+\n",
      "+-----------+--------+-------------+-----------------+----+\n",
      "\n",
      "+-----------+--------+-------------+-----------------+----+\n",
      "|movies_type|director|year_of_issue|length_in_minutes|rate|\n",
      "+-----------+--------+-------------+-----------------+----+\n",
      "+-----------+--------+-------------+-----------------+----+\n",
      "\n",
      "+-----------+--------+-------------+-----------------+----+\n",
      "|movies_type|director|year_of_issue|length_in_minutes|rate|\n",
      "+-----------+--------+-------------+-----------------+----+\n",
      "+-----------+--------+-------------+-----------------+----+\n",
      "\n",
      "+-----------+--------+-------------+-----------------+----+\n",
      "|movies_type|director|year_of_issue|length_in_minutes|rate|\n",
      "+-----------+--------+-------------+-----------------+----+\n",
      "+-----------+--------+-------------+-----------------+----+\n",
      "\n",
      "+-----------+----------+-------------+-----------------+----+\n",
      "|movies_type|  director|year_of_issue|length_in_minutes|rate|\n",
      "+-----------+----------+-------------+-----------------+----+\n",
      "|     Action|Director A|         1985|              120| 7.2|\n",
      "|     Comedy|Director C|         2005|               90| 6.5|\n",
      "+-----------+----------+-------------+-----------------+----+\n",
      "\n",
      "+-----------+----------+-------------+-----------------+----+\n",
      "|movies_type|  director|year_of_issue|length_in_minutes|rate|\n",
      "+-----------+----------+-------------+-----------------+----+\n",
      "|      Drama|Director B|         1995|              150| 8.5|\n",
      "+-----------+----------+-------------+-----------------+----+\n",
      "\n",
      "+-----------+--------+-------------+-----------------+----+\n",
      "|movies_type|director|year_of_issue|length_in_minutes|rate|\n",
      "+-----------+--------+-------------+-----------------+----+\n",
      "+-----------+--------+-------------+-----------------+----+\n",
      "\n",
      "+-----------+----------+-------------+-----------------+----+\n",
      "|movies_type|  director|year_of_issue|length_in_minutes|rate|\n",
      "+-----------+----------+-------------+-----------------+----+\n",
      "|     Action|Director A|         1985|              120| 7.2|\n",
      "|     Comedy|Director C|         2005|               90| 6.5|\n",
      "+-----------+----------+-------------+-----------------+----+\n",
      "\n",
      "+-----------+----------+-------------+-----------------+----+\n",
      "|movies_type|  director|year_of_issue|length_in_minutes|rate|\n",
      "+-----------+----------+-------------+-----------------+----+\n",
      "|      Drama|Director B|         1995|              150| 8.5|\n",
      "+-----------+----------+-------------+-----------------+----+\n",
      "\n"
     ]
    }
   ],
   "source": [
    "# 8. Выбор из всех таблиц\n",
    "movies_pre_1990.show()\n",
    "movies_1990_2000.show()\n",
    "movies_2000_2010.show()\n",
    "movies_2010_2020.show()\n",
    "movies_post_2020.show()\n",
    "movies_short.show()\n",
    "movies_medium.show()\n",
    "movies_long.show()\n",
    "movies_very_long.show()\n",
    "movies_low_rate.show()\n",
    "movies_medium_rate.show()\n",
    "movies_high_rate.show()"
   ]
  },
  {
   "cell_type": "code",
   "execution_count": 29,
   "id": "6a706ef2",
   "metadata": {},
   "outputs": [
    {
     "name": "stdout",
     "output_type": "stream",
     "text": [
      "+-----------+----------+-------------+-----------------+----+\n",
      "|movies_type|  director|year_of_issue|length_in_minutes|rate|\n",
      "+-----------+----------+-------------+-----------------+----+\n",
      "|     Action|Director A|         1985|              120| 7.2|\n",
      "|      Drama|Director B|         1995|              150| 8.5|\n",
      "|     Comedy|Director C|         2005|               90| 6.5|\n",
      "|     Sci-Fi|Director X|         2021|              140|10.5|\n",
      "|    Fantasy|Director Y|         2022|              200|10.8|\n",
      "|     Horror|Director Z|         2023|               80|11.0|\n",
      "|     Sci-Fi|Director X|         2021|              140|10.5|\n",
      "|    Fantasy|Director Y|         2022|              200|10.8|\n",
      "|     Horror|Director Z|         2023|               80|11.0|\n",
      "|     Sci-Fi|Director X|         2021|              140|10.5|\n",
      "|    Fantasy|Director Y|         2022|              200|10.8|\n",
      "|     Horror|Director Z|         2023|               80|11.0|\n",
      "|     Sci-Fi|Director X|         2021|              140|10.5|\n",
      "|    Fantasy|Director Y|         2022|              200|10.8|\n",
      "|     Horror|Director Z|         2023|               80|11.0|\n",
      "+-----------+----------+-------------+-----------------+----+\n",
      "\n"
     ]
    }
   ],
   "source": [
    "# 9. Выбор из основной таблицы\n",
    "movies_df.show()"
   ]
  },
  {
   "cell_type": "code",
   "execution_count": 30,
   "id": "df1c2296",
   "metadata": {},
   "outputs": [],
   "source": [
    "spark.stop()"
   ]
  }
 ],
 "metadata": {
  "kernelspec": {
   "display_name": "Python 3 (ipykernel)",
   "language": "python",
   "name": "python3"
  },
  "language_info": {
   "codemirror_mode": {
    "name": "ipython",
    "version": 3
   },
   "file_extension": ".py",
   "mimetype": "text/x-python",
   "name": "python",
   "nbconvert_exporter": "python",
   "pygments_lexer": "ipython3",
   "version": "3.11.5"
  }
 },
 "nbformat": 4,
 "nbformat_minor": 5
}
