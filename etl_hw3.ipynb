{
 "cells": [
  {
   "cell_type": "markdown",
   "id": "a2ebd962",
   "metadata": {},
   "source": [
    "1.Денормализуйте таблицу так, чтобы не нужно было для каждого рекламодателя постоянно подсчитывать количество кампаний и продаж."
   ]
  },
  {
   "cell_type": "code",
   "execution_count": 1,
   "id": "352751c7",
   "metadata": {},
   "outputs": [],
   "source": [
    "import init_spark_env # Подтягиваю файл настроек связки юпитра и спарка"
   ]
  },
  {
   "cell_type": "code",
   "execution_count": 2,
   "id": "9039ce63",
   "metadata": {},
   "outputs": [],
   "source": [
    "from pyspark.sql import SparkSession\n",
    "from pyspark.sql.functions import countDistinct"
   ]
  },
  {
   "cell_type": "code",
   "execution_count": 3,
   "id": "cc055c5f",
   "metadata": {},
   "outputs": [],
   "source": [
    "# Создаю Spark сессию\n",
    "spark = SparkSession.builder \\\n",
    "    .appName(\"denormal_hw3\") \\\n",
    "    .getOrCreate()"
   ]
  },
  {
   "cell_type": "code",
   "execution_count": 4,
   "id": "5f2215f5",
   "metadata": {},
   "outputs": [
    {
     "data": {
      "text/html": [
       "\n",
       "            <div>\n",
       "                <p><b>SparkSession - in-memory</b></p>\n",
       "                \n",
       "        <div>\n",
       "            <p><b>SparkContext</b></p>\n",
       "\n",
       "            <p><a href=\"http://DESKTOP-06HQUIB:4040\">Spark UI</a></p>\n",
       "\n",
       "            <dl>\n",
       "              <dt>Version</dt>\n",
       "                <dd><code>v3.5.3</code></dd>\n",
       "              <dt>Master</dt>\n",
       "                <dd><code>local[*]</code></dd>\n",
       "              <dt>AppName</dt>\n",
       "                <dd><code>denormal_hw3</code></dd>\n",
       "            </dl>\n",
       "        </div>\n",
       "        \n",
       "            </div>\n",
       "        "
      ],
      "text/plain": [
       "<pyspark.sql.session.SparkSession at 0x20b97a12e50>"
      ]
     },
     "execution_count": 4,
     "metadata": {},
     "output_type": "execute_result"
    }
   ],
   "source": [
    "spark # проверка состояния спарка"
   ]
  },
  {
   "cell_type": "code",
   "execution_count": 16,
   "id": "89af7809",
   "metadata": {},
   "outputs": [
    {
     "name": "stdout",
     "output_type": "stream",
     "text": [
      "+--------+------------+\n",
      "|UniqueID|        Name|\n",
      "+--------+------------+\n",
      "|       1|Advertiser 1|\n",
      "|       2|Advertiser 2|\n",
      "|       3|Advertiser 3|\n",
      "+--------+------------+\n",
      "\n"
     ]
    }
   ],
   "source": [
    "# Рекламодатели\n",
    "advertisers_data = [\n",
    "    (1, 'Advertiser 1'),\n",
    "    (2, 'Advertiser 2'),\n",
    "    (3, 'Advertiser 3')\n",
    "]\n",
    "advertisers = spark.createDataFrame(advertisers_data, [\"UniqueID\", \"Name\"])\n",
    "\n",
    "advertisers.show()"
   ]
  },
  {
   "cell_type": "code",
   "execution_count": 17,
   "id": "04185e39",
   "metadata": {},
   "outputs": [
    {
     "name": "stdout",
     "output_type": "stream",
     "text": [
      "+--------+-------------+\n",
      "|UniqueID|campaign_name|\n",
      "+--------+-------------+\n",
      "|       1|   Campaign 1|\n",
      "|       2|   Campaign 2|\n",
      "|       3|   Campaign 3|\n",
      "|       4|   Campaign 4|\n",
      "+--------+-------------+\n",
      "\n"
     ]
    }
   ],
   "source": [
    "# \"Кoмпании\"\n",
    "campaigns_data = [\n",
    "    (1, 'Campaign 1'),\n",
    "    (2, 'Campaign 2'),\n",
    "    (3, 'Campaign 3'),\n",
    "    (4, 'Campaign 4')\n",
    "]\n",
    "campaigns = spark.createDataFrame(campaigns_data, [\"UniqueID\", \"campaign_name\"])\n",
    "\n",
    "campaigns.show()"
   ]
  },
  {
   "cell_type": "code",
   "execution_count": 7,
   "id": "64355f47",
   "metadata": {},
   "outputs": [
    {
     "name": "stdout",
     "output_type": "stream",
     "text": [
      "+--------+------------+-----------+\n",
      "|UniqueID|advertise_id|campaign_id|\n",
      "+--------+------------+-----------+\n",
      "|       1|           1|          1|\n",
      "|       2|           1|          2|\n",
      "|       3|           2|          3|\n",
      "|       4|           3|          4|\n",
      "|       5|           3|          4|\n",
      "+--------+------------+-----------+\n",
      "\n"
     ]
    }
   ],
   "source": [
    "# Продажи\n",
    "sales_data = [\n",
    "    (1, 1, 1),\n",
    "    (2, 1, 2),\n",
    "    (3, 2, 3),\n",
    "    (4, 3, 4),\n",
    "    (5, 3, 4)\n",
    "]\n",
    "sales = spark.createDataFrame(sales_data, [\"UniqueID\", \"advertise_id\", \"campaign_id\"])\n",
    "\n",
    "sales.show()"
   ]
  },
  {
   "cell_type": "code",
   "execution_count": 14,
   "id": "ec1fe883",
   "metadata": {},
   "outputs": [],
   "source": [
    "# Kоличество уникальных кампаний и количество продаж для каждого рекламодателя\n",
    "campaign_counts = sales.groupBy(\"advertise_id\").agg(countDistinct(\"campaign_id\").alias(\"campaign_count\"))\n",
    "sales_counts = sales.groupBy(\"advertise_id\").count().withColumnRenamed(\"count\", \"sales_count\")"
   ]
  },
  {
   "cell_type": "code",
   "execution_count": 15,
   "id": "146cb9be",
   "metadata": {},
   "outputs": [],
   "source": [
    "denormalized_data = advertisers.join(campaign_counts, advertisers.UniqueID == campaign_counts.advertise_id, \"left\") \\\n",
    "                               .join(sales_counts, advertisers.UniqueID == sales_counts.advertise_id, \"left\") \\\n",
    "                               .drop(\"advertise_id\")"
   ]
  },
  {
   "cell_type": "code",
   "execution_count": 18,
   "id": "879974cf",
   "metadata": {},
   "outputs": [
    {
     "name": "stdout",
     "output_type": "stream",
     "text": [
      "+--------+------------+--------------+-----------+\n",
      "|UniqueID|        Name|campaign_count|sales_count|\n",
      "+--------+------------+--------------+-----------+\n",
      "|       1|Advertiser 1|             2|          2|\n",
      "|       2|Advertiser 2|             1|          1|\n",
      "|       3|Advertiser 3|             1|          2|\n",
      "+--------+------------+--------------+-----------+\n",
      "\n"
     ]
    }
   ],
   "source": [
    "denormalized_data = denormalized_data.fillna(0)\n",
    "denormalized_data.show()"
   ]
  },
  {
   "cell_type": "markdown",
   "id": "6c817675",
   "metadata": {},
   "source": [
    "2.В базе данных есть две таблицы: страны и клиенты. Одной из потребностей компании является исследование клиентов и стран с точки зрения эффективности продаж, поэтому часто выполняются объединения между таблицами: клиенты и страны. Что нужно сделать, чтобы ограничить частое объединение этих двух таблиц?"
   ]
  },
  {
   "cell_type": "code",
   "execution_count": 19,
   "id": "33d8c13a",
   "metadata": {},
   "outputs": [
    {
     "name": "stdout",
     "output_type": "stream",
     "text": [
      "+--------+------------+\n",
      "|UniqueID|country_name|\n",
      "+--------+------------+\n",
      "|       1|         USA|\n",
      "|       2|      Canada|\n",
      "|       3|      France|\n",
      "+--------+------------+\n",
      "\n"
     ]
    }
   ],
   "source": [
    "#  Страны\n",
    "countries_data = [\n",
    "    (1, 'USA'),\n",
    "    (2, 'Canada'),\n",
    "    (3, 'France')\n",
    "]\n",
    "countries = spark.createDataFrame(countries_data, [\"UniqueID\", \"country_name\"])\n",
    "\n",
    "countries.show()"
   ]
  },
  {
   "cell_type": "code",
   "execution_count": 21,
   "id": "04f71f0b",
   "metadata": {},
   "outputs": [
    {
     "name": "stdout",
     "output_type": "stream",
     "text": [
      "+--------+-------------+----------+\n",
      "|UniqueID|customer_name|country_id|\n",
      "+--------+-------------+----------+\n",
      "|       1|  Barac Obama|         1|\n",
      "|       2|   Mykki Maus|         2|\n",
      "|       3|   Bob Dillan|         3|\n",
      "|       4|  Donya Tramp|         1|\n",
      "+--------+-------------+----------+\n",
      "\n"
     ]
    }
   ],
   "source": [
    "# Клиенты\n",
    "customers_data = [\n",
    "    (1, 'Barac Obama', 1),\n",
    "    (2, 'Mykki Maus', 2),\n",
    "    (3, 'Bob Dillan', 3),\n",
    "    (4, 'Donya Tramp', 1)\n",
    "]\n",
    "customers = spark.createDataFrame(customers_data, [\"UniqueID\", \"customer_name\", \"country_id\"])\n",
    "\n",
    "customers.show()"
   ]
  },
  {
   "cell_type": "code",
   "execution_count": 26,
   "id": "c9621c89",
   "metadata": {},
   "outputs": [],
   "source": [
    "denormalized_data = customers.join(countries, customers.country_id == countries.UniqueID, \"left\") \\\n",
    "                             .drop(\"country_id\") \\\n",
    "                             .withColumnRenamed(\"country_name\", \"customer_country\")"
   ]
  },
  {
   "cell_type": "code",
   "execution_count": 27,
   "id": "1627ef7e",
   "metadata": {},
   "outputs": [
    {
     "name": "stdout",
     "output_type": "stream",
     "text": [
      "+--------+-------------+--------+----------------+\n",
      "|UniqueID|customer_name|UniqueID|customer_country|\n",
      "+--------+-------------+--------+----------------+\n",
      "|       1|  Barac Obama|       1|             USA|\n",
      "|       2|   Mykki Maus|       2|          Canada|\n",
      "|       3|   Bob Dillan|       3|          France|\n",
      "|       4|  Donya Tramp|       1|             USA|\n",
      "+--------+-------------+--------+----------------+\n",
      "\n"
     ]
    }
   ],
   "source": [
    "denormalized_data.show()"
   ]
  },
  {
   "cell_type": "markdown",
   "id": "0163fe79",
   "metadata": {},
   "source": [
    "3.Вернемся к первому примеру. Предположим, компания хочет регулярно извлекать данные о продажах, например, о кампаниях или рекламодателях с полными именами. Как мы можем решить проблему постоянной необходимости объединения таблиц?"
   ]
  },
  {
   "cell_type": "code",
   "execution_count": 28,
   "id": "b763cb66",
   "metadata": {},
   "outputs": [
    {
     "name": "stdout",
     "output_type": "stream",
     "text": [
      "+--------+------------+\n",
      "|UniqueID|        Name|\n",
      "+--------+------------+\n",
      "|       1|Advertiser A|\n",
      "|       2|Advertiser B|\n",
      "|       3|Advertiser C|\n",
      "+--------+------------+\n",
      "\n"
     ]
    }
   ],
   "source": [
    "# Рекламодатели\n",
    "advertisers_data = [\n",
    "    (1, 'Advertiser A'),\n",
    "    (2, 'Advertiser B'),\n",
    "    (3, 'Advertiser C')\n",
    "]\n",
    "advertisers = spark.createDataFrame(advertisers_data, [\"UniqueID\", \"Name\"])\n",
    "\n",
    "advertisers.show()"
   ]
  },
  {
   "cell_type": "code",
   "execution_count": 29,
   "id": "7270ae14",
   "metadata": {},
   "outputs": [
    {
     "name": "stdout",
     "output_type": "stream",
     "text": [
      "+--------+-------------+\n",
      "|UniqueID|campaign_name|\n",
      "+--------+-------------+\n",
      "|       1|   Campaign 1|\n",
      "|       2|   Campaign 2|\n",
      "|       3|   Campaign 3|\n",
      "|       4|   Campaign 4|\n",
      "+--------+-------------+\n",
      "\n"
     ]
    }
   ],
   "source": [
    "# Кампании\n",
    "campaigns_data = [\n",
    "    (1, 'Campaign 1'),\n",
    "    (2, 'Campaign 2'),\n",
    "    (3, 'Campaign 3'),\n",
    "    (4, 'Campaign 4')\n",
    "]\n",
    "campaigns = spark.createDataFrame(campaigns_data, [\"UniqueID\", \"campaign_name\"])\n",
    "\n",
    "campaigns.show()"
   ]
  },
  {
   "cell_type": "code",
   "execution_count": 30,
   "id": "bd217015",
   "metadata": {},
   "outputs": [
    {
     "name": "stdout",
     "output_type": "stream",
     "text": [
      "+--------+------------+-----------+\n",
      "|UniqueID|advertise_id|campaign_id|\n",
      "+--------+------------+-----------+\n",
      "|       1|           1|          1|\n",
      "|       2|           1|          2|\n",
      "|       3|           2|          3|\n",
      "|       4|           3|          4|\n",
      "|       5|           3|          4|\n",
      "+--------+------------+-----------+\n",
      "\n"
     ]
    }
   ],
   "source": [
    "# Продажи\n",
    "sales_data = [\n",
    "    (1, 1, 1),\n",
    "    (2, 1, 2),\n",
    "    (3, 2, 3),\n",
    "    (4, 3, 4),\n",
    "    (5, 3, 4)\n",
    "]\n",
    "sales = spark.createDataFrame(sales_data, [\"UniqueID\", \"advertise_id\", \"campaign_id\"])\n",
    "\n",
    "sales.show()"
   ]
  },
  {
   "cell_type": "code",
   "execution_count": 35,
   "id": "10f4ce90",
   "metadata": {},
   "outputs": [],
   "source": [
    "denormalized_sales = sales.join(advertisers, sales.advertise_id == advertisers.UniqueID, \"left\") \\\n",
    "                          .join(campaigns, sales.campaign_id == campaigns.UniqueID, \"left\") \\\n",
    "                          .drop(advertisers.UniqueID) \\\n",
    "                          .drop(campaigns.UniqueID) \\\n",
    "                          .withColumnRenamed(\"Name\", \"advertiser_name\") \\\n",
    "                          .withColumnRenamed(\"campaign_name\", \"campaign_name\")"
   ]
  },
  {
   "cell_type": "code",
   "execution_count": 36,
   "id": "2922bce9",
   "metadata": {},
   "outputs": [
    {
     "name": "stdout",
     "output_type": "stream",
     "text": [
      "+--------+------------+-----------+---------------+-------------+\n",
      "|UniqueID|advertise_id|campaign_id|advertiser_name|campaign_name|\n",
      "+--------+------------+-----------+---------------+-------------+\n",
      "|       1|           1|          1|   Advertiser A|   Campaign 1|\n",
      "|       3|           2|          3|   Advertiser B|   Campaign 3|\n",
      "|       2|           1|          2|   Advertiser A|   Campaign 2|\n",
      "|       4|           3|          4|   Advertiser C|   Campaign 4|\n",
      "|       5|           3|          4|   Advertiser C|   Campaign 4|\n",
      "+--------+------------+-----------+---------------+-------------+\n",
      "\n"
     ]
    }
   ],
   "source": [
    "denormalized_sales.show()"
   ]
  },
  {
   "cell_type": "code",
   "execution_count": 37,
   "id": "07829234",
   "metadata": {},
   "outputs": [],
   "source": [
    "spark.stop()"
   ]
  }
 ],
 "metadata": {
  "kernelspec": {
   "display_name": "Python 3 (ipykernel)",
   "language": "python",
   "name": "python3"
  },
  "language_info": {
   "codemirror_mode": {
    "name": "ipython",
    "version": 3
   },
   "file_extension": ".py",
   "mimetype": "text/x-python",
   "name": "python",
   "nbconvert_exporter": "python",
   "pygments_lexer": "ipython3",
   "version": "3.11.5"
  }
 },
 "nbformat": 4,
 "nbformat_minor": 5
}
