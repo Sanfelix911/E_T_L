{
 "cells": [
  {
   "cell_type": "markdown",
   "id": "129875bc",
   "metadata": {},
   "source": [
    "Определите в какой нормальной форме данная таблица, приведите её ко 2 и 3 нормальным формам последовательно\n",
    "\n",
    "EmployeeID\tName\tJobCode\tJob\t      Citycode\tHomecity\n",
    "E001\t    Alice\tJ01\t    Chef\t  26\t    Moscow\n",
    "E001\t    Alice\tJ02\t    Waiter\t  26\t    Moscow\n",
    "E002\t    Bob\t    J02\t    Waiter\t  56\t    Perm\n",
    "E002\t    Bob\t    J03\t    Bartender 56\t    Perm\n",
    "E003\t    Alice\tJ01\t    Chef\t  56\t    Perm\n",
    "\n"
   ]
  },
  {
   "cell_type": "code",
   "execution_count": 6,
   "id": "9dcc8d73",
   "metadata": {},
   "outputs": [],
   "source": [
    "import init_spark_env # импортируем фай настрое связки spark-jupterNot"
   ]
  },
  {
   "cell_type": "code",
   "execution_count": 7,
   "id": "65305a11",
   "metadata": {},
   "outputs": [],
   "source": [
    "from pyspark.sql import SparkSession"
   ]
  },
  {
   "cell_type": "code",
   "execution_count": 8,
   "id": "51b06d2d",
   "metadata": {},
   "outputs": [],
   "source": [
    "spark = SparkSession.builder.master(\"local[*]\").appName(\"My Spark Application\").getOrCreate()"
   ]
  },
  {
   "cell_type": "code",
   "execution_count": 9,
   "id": "15083df5",
   "metadata": {},
   "outputs": [
    {
     "data": {
      "text/html": [
       "\n",
       "            <div>\n",
       "                <p><b>SparkSession - in-memory</b></p>\n",
       "                \n",
       "        <div>\n",
       "            <p><b>SparkContext</b></p>\n",
       "\n",
       "            <p><a href=\"http://DESKTOP-06HQUIB:4041\">Spark UI</a></p>\n",
       "\n",
       "            <dl>\n",
       "              <dt>Version</dt>\n",
       "                <dd><code>v3.5.3</code></dd>\n",
       "              <dt>Master</dt>\n",
       "                <dd><code>local[*]</code></dd>\n",
       "              <dt>AppName</dt>\n",
       "                <dd><code>My Spark Application</code></dd>\n",
       "            </dl>\n",
       "        </div>\n",
       "        \n",
       "            </div>\n",
       "        "
      ],
      "text/plain": [
       "<pyspark.sql.session.SparkSession at 0x1c1be668890>"
      ]
     },
     "execution_count": 9,
     "metadata": {},
     "output_type": "execute_result"
    }
   ],
   "source": [
    "spark # проверяем состояние спарк-сессии"
   ]
  },
  {
   "cell_type": "code",
   "execution_count": 14,
   "id": "45972acc",
   "metadata": {},
   "outputs": [],
   "source": [
    "from pyspark.sql import DataFrame\n",
    "from pyspark.sql.functions import col"
   ]
  },
  {
   "cell_type": "code",
   "execution_count": 16,
   "id": "70d456b2",
   "metadata": {},
   "outputs": [],
   "source": [
    "# Создаём базу даных по заданию\n",
    "\n",
    "data = [\n",
    "    (\"E001\", \"Alice\", \"J01\", \"Chef\", \"26\", \"Moscow\"),\n",
    "    (\"E001\", \"Alice\", \"J02\", \"Waiter\", \"26\", \"Moscow\"),\n",
    "    (\"E002\", \"Bob\", \"J02\", \"Waiter\", \"56\", \"Perm\"),\n",
    "    (\"E002\", \"Bob\", \"J03\", \"Bartender\", \"56\", \"Perm\"),\n",
    "    (\"E003\", \"Alice\", \"J01\", \"Chef\", \"56\", \"Perm\")\n",
    "    ]\n",
    "columns =[\"EmployeeID\", \"Name\", \"JobCode\", \"Job\", \"Citycode\", \"Homecity\"]\n",
    "df = spark.createDataFrame(data, schema=columns)"
   ]
  },
  {
   "cell_type": "code",
   "execution_count": 18,
   "id": "c1e70619",
   "metadata": {},
   "outputs": [
    {
     "data": {
      "text/plain": [
       "[Row(EmployeeID='E001', Name='Alice', JobCode='J01', Job='Chef', Citycode='26', Homecity='Moscow'),\n",
       " Row(EmployeeID='E001', Name='Alice', JobCode='J02', Job='Waiter', Citycode='26', Homecity='Moscow'),\n",
       " Row(EmployeeID='E002', Name='Bob', JobCode='J02', Job='Waiter', Citycode='56', Homecity='Perm'),\n",
       " Row(EmployeeID='E002', Name='Bob', JobCode='J03', Job='Bartender', Citycode='56', Homecity='Perm'),\n",
       " Row(EmployeeID='E003', Name='Alice', JobCode='J01', Job='Chef', Citycode='56', Homecity='Perm')]"
      ]
     },
     "execution_count": 18,
     "metadata": {},
     "output_type": "execute_result"
    }
   ],
   "source": [
    "df.head(5)"
   ]
  },
  {
   "cell_type": "code",
   "execution_count": 23,
   "id": "53dce253",
   "metadata": {},
   "outputs": [
    {
     "name": "stdout",
     "output_type": "stream",
     "text": [
      "+----------+-----+-------+---------+--------+--------+\n",
      "|EmployeeID| Name|JobCode|      Job|Citycode|Homecity|\n",
      "+----------+-----+-------+---------+--------+--------+\n",
      "|      E001|Alice|    J01|     Chef|      26|  Moscow|\n",
      "|      E001|Alice|    J02|   Waiter|      26|  Moscow|\n",
      "|      E002|  Bob|    J02|   Waiter|      56|    Perm|\n",
      "|      E002|  Bob|    J03|Bartender|      56|    Perm|\n",
      "|      E003|Alice|    J01|     Chef|      56|    Perm|\n",
      "+----------+-----+-------+---------+--------+--------+\n",
      "\n"
     ]
    }
   ],
   "source": [
    "df.show()"
   ]
  },
  {
   "cell_type": "code",
   "execution_count": 19,
   "id": "8e16e773",
   "metadata": {},
   "outputs": [],
   "source": [
    "# Разобъём на две таблицы\n",
    "employees_df = df.select(\"EmployeeID\", \"Name\", \"Citycode\", \"Homecity\").distinct()\n",
    "jobs_df = df.select(\"EmployeeID\", \"JobCode\", \"Job\").distinct()"
   ]
  },
  {
   "cell_type": "code",
   "execution_count": 20,
   "id": "1572f515",
   "metadata": {},
   "outputs": [
    {
     "data": {
      "text/plain": [
       "[Row(EmployeeID='E001', Name='Alice', Citycode='26', Homecity='Moscow'),\n",
       " Row(EmployeeID='E002', Name='Bob', Citycode='56', Homecity='Perm'),\n",
       " Row(EmployeeID='E003', Name='Alice', Citycode='56', Homecity='Perm')]"
      ]
     },
     "execution_count": 20,
     "metadata": {},
     "output_type": "execute_result"
    }
   ],
   "source": [
    "employees_df.head(5)"
   ]
  },
  {
   "cell_type": "code",
   "execution_count": 22,
   "id": "fd064517",
   "metadata": {},
   "outputs": [
    {
     "name": "stdout",
     "output_type": "stream",
     "text": [
      "+----------+-----+--------+--------+\n",
      "|EmployeeID| Name|Citycode|Homecity|\n",
      "+----------+-----+--------+--------+\n",
      "|      E001|Alice|      26|  Moscow|\n",
      "|      E002|  Bob|      56|    Perm|\n",
      "|      E003|Alice|      56|    Perm|\n",
      "+----------+-----+--------+--------+\n",
      "\n"
     ]
    }
   ],
   "source": [
    "employees_df.show()"
   ]
  },
  {
   "cell_type": "code",
   "execution_count": 21,
   "id": "3d6c7bcd",
   "metadata": {},
   "outputs": [
    {
     "data": {
      "text/plain": [
       "[Row(EmployeeID='E001', JobCode='J01', Job='Chef'),\n",
       " Row(EmployeeID='E001', JobCode='J02', Job='Waiter'),\n",
       " Row(EmployeeID='E002', JobCode='J02', Job='Waiter'),\n",
       " Row(EmployeeID='E002', JobCode='J03', Job='Bartender'),\n",
       " Row(EmployeeID='E003', JobCode='J01', Job='Chef')]"
      ]
     },
     "execution_count": 21,
     "metadata": {},
     "output_type": "execute_result"
    }
   ],
   "source": [
    "jobs_df.head(5)"
   ]
  },
  {
   "cell_type": "code",
   "execution_count": 24,
   "id": "ae4c613a",
   "metadata": {},
   "outputs": [
    {
     "name": "stdout",
     "output_type": "stream",
     "text": [
      "+----------+-------+---------+\n",
      "|EmployeeID|JobCode|      Job|\n",
      "+----------+-------+---------+\n",
      "|      E001|    J01|     Chef|\n",
      "|      E001|    J02|   Waiter|\n",
      "|      E002|    J02|   Waiter|\n",
      "|      E002|    J03|Bartender|\n",
      "|      E003|    J01|     Chef|\n",
      "+----------+-------+---------+\n",
      "\n"
     ]
    }
   ],
   "source": [
    "jobs_df.show()"
   ]
  },
  {
   "cell_type": "code",
   "execution_count": 25,
   "id": "854c7b0f",
   "metadata": {},
   "outputs": [],
   "source": [
    "# Создадим таблицу для городов по кодам города\n",
    "cities_df = df.select(\"Citycode\", \"Homecity\").distinct()"
   ]
  },
  {
   "cell_type": "code",
   "execution_count": 26,
   "id": "d4a4da6d",
   "metadata": {},
   "outputs": [
    {
     "data": {
      "text/plain": [
       "[Row(Citycode='26', Homecity='Moscow'), Row(Citycode='56', Homecity='Perm')]"
      ]
     },
     "execution_count": 26,
     "metadata": {},
     "output_type": "execute_result"
    }
   ],
   "source": [
    "cities_df.head(5)"
   ]
  },
  {
   "cell_type": "code",
   "execution_count": 27,
   "id": "7edb6cd3",
   "metadata": {},
   "outputs": [
    {
     "name": "stdout",
     "output_type": "stream",
     "text": [
      "+--------+--------+\n",
      "|Citycode|Homecity|\n",
      "+--------+--------+\n",
      "|      26|  Moscow|\n",
      "|      56|    Perm|\n",
      "+--------+--------+\n",
      "\n"
     ]
    }
   ],
   "source": [
    "cities_df.show()"
   ]
  },
  {
   "cell_type": "code",
   "execution_count": null,
   "id": "f66aecf9",
   "metadata": {},
   "outputs": [],
   "source": []
  }
 ],
 "metadata": {
  "kernelspec": {
   "display_name": "Python 3 (ipykernel)",
   "language": "python",
   "name": "python3"
  },
  "language_info": {
   "codemirror_mode": {
    "name": "ipython",
    "version": 3
   },
   "file_extension": ".py",
   "mimetype": "text/x-python",
   "name": "python",
   "nbconvert_exporter": "python",
   "pygments_lexer": "ipython3",
   "version": "3.11.5"
  }
 },
 "nbformat": 4,
 "nbformat_minor": 5
}
